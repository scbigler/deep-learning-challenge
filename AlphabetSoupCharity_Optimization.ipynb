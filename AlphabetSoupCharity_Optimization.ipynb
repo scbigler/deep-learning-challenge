{
  "cells": [
    {
      "cell_type": "markdown",
      "metadata": {
        "id": "view-in-github",
        "colab_type": "text"
      },
      "source": [
        "<a href=\"https://colab.research.google.com/github/scbigler/deep-learning-challenge/blob/main/AlphabetSoupCharity_Optimization.ipynb\" target=\"_parent\"><img src=\"https://colab.research.google.com/assets/colab-badge.svg\" alt=\"Open In Colab\"/></a>"
      ]
    },
    {
      "cell_type": "markdown",
      "metadata": {
        "id": "HFRcj05_nc1f"
      },
      "source": [
        "## Preprocessing"
      ]
    },
    {
      "cell_type": "code",
      "execution_count": 19,
      "metadata": {
        "colab": {
          "base_uri": "https://localhost:8080/",
          "height": 489
        },
        "id": "O785irHqnc1h",
        "outputId": "7a6562ae-5d24-4913-8921-d10258dd54d1"
      },
      "outputs": [
        {
          "output_type": "execute_result",
          "data": {
            "text/plain": [
              "        EIN                                      NAME APPLICATION_TYPE  \\\n",
              "0  10520599              BLUE KNIGHTS MOTORCYCLE CLUB              T10   \n",
              "1  10531628    AMERICAN CHESAPEAKE CLUB CHARITABLE TR               T3   \n",
              "2  10547893        ST CLOUD PROFESSIONAL FIREFIGHTERS               T5   \n",
              "3  10553066            SOUTHSIDE ATHLETIC ASSOCIATION               T3   \n",
              "4  10556103  GENETIC RESEARCH INSTITUTE OF THE DESERT               T3   \n",
              "\n",
              "        AFFILIATION CLASSIFICATION      USE_CASE  ORGANIZATION  STATUS  \\\n",
              "0       Independent          C1000    ProductDev   Association       1   \n",
              "1       Independent          C2000  Preservation  Co-operative       1   \n",
              "2  CompanySponsored          C3000    ProductDev   Association       1   \n",
              "3  CompanySponsored          C2000  Preservation         Trust       1   \n",
              "4       Independent          C1000     Heathcare         Trust       1   \n",
              "\n",
              "      INCOME_AMT SPECIAL_CONSIDERATIONS  ASK_AMT  IS_SUCCESSFUL  \n",
              "0              0                      N     5000              1  \n",
              "1         1-9999                      N   108590              1  \n",
              "2              0                      N     5000              0  \n",
              "3    10000-24999                      N     6692              1  \n",
              "4  100000-499999                      N   142590              1  "
            ],
            "text/html": [
              "\n",
              "  <div id=\"df-1217a278-7b48-41bf-b530-36e715d8bb5e\">\n",
              "    <div class=\"colab-df-container\">\n",
              "      <div>\n",
              "<style scoped>\n",
              "    .dataframe tbody tr th:only-of-type {\n",
              "        vertical-align: middle;\n",
              "    }\n",
              "\n",
              "    .dataframe tbody tr th {\n",
              "        vertical-align: top;\n",
              "    }\n",
              "\n",
              "    .dataframe thead th {\n",
              "        text-align: right;\n",
              "    }\n",
              "</style>\n",
              "<table border=\"1\" class=\"dataframe\">\n",
              "  <thead>\n",
              "    <tr style=\"text-align: right;\">\n",
              "      <th></th>\n",
              "      <th>EIN</th>\n",
              "      <th>NAME</th>\n",
              "      <th>APPLICATION_TYPE</th>\n",
              "      <th>AFFILIATION</th>\n",
              "      <th>CLASSIFICATION</th>\n",
              "      <th>USE_CASE</th>\n",
              "      <th>ORGANIZATION</th>\n",
              "      <th>STATUS</th>\n",
              "      <th>INCOME_AMT</th>\n",
              "      <th>SPECIAL_CONSIDERATIONS</th>\n",
              "      <th>ASK_AMT</th>\n",
              "      <th>IS_SUCCESSFUL</th>\n",
              "    </tr>\n",
              "  </thead>\n",
              "  <tbody>\n",
              "    <tr>\n",
              "      <th>0</th>\n",
              "      <td>10520599</td>\n",
              "      <td>BLUE KNIGHTS MOTORCYCLE CLUB</td>\n",
              "      <td>T10</td>\n",
              "      <td>Independent</td>\n",
              "      <td>C1000</td>\n",
              "      <td>ProductDev</td>\n",
              "      <td>Association</td>\n",
              "      <td>1</td>\n",
              "      <td>0</td>\n",
              "      <td>N</td>\n",
              "      <td>5000</td>\n",
              "      <td>1</td>\n",
              "    </tr>\n",
              "    <tr>\n",
              "      <th>1</th>\n",
              "      <td>10531628</td>\n",
              "      <td>AMERICAN CHESAPEAKE CLUB CHARITABLE TR</td>\n",
              "      <td>T3</td>\n",
              "      <td>Independent</td>\n",
              "      <td>C2000</td>\n",
              "      <td>Preservation</td>\n",
              "      <td>Co-operative</td>\n",
              "      <td>1</td>\n",
              "      <td>1-9999</td>\n",
              "      <td>N</td>\n",
              "      <td>108590</td>\n",
              "      <td>1</td>\n",
              "    </tr>\n",
              "    <tr>\n",
              "      <th>2</th>\n",
              "      <td>10547893</td>\n",
              "      <td>ST CLOUD PROFESSIONAL FIREFIGHTERS</td>\n",
              "      <td>T5</td>\n",
              "      <td>CompanySponsored</td>\n",
              "      <td>C3000</td>\n",
              "      <td>ProductDev</td>\n",
              "      <td>Association</td>\n",
              "      <td>1</td>\n",
              "      <td>0</td>\n",
              "      <td>N</td>\n",
              "      <td>5000</td>\n",
              "      <td>0</td>\n",
              "    </tr>\n",
              "    <tr>\n",
              "      <th>3</th>\n",
              "      <td>10553066</td>\n",
              "      <td>SOUTHSIDE ATHLETIC ASSOCIATION</td>\n",
              "      <td>T3</td>\n",
              "      <td>CompanySponsored</td>\n",
              "      <td>C2000</td>\n",
              "      <td>Preservation</td>\n",
              "      <td>Trust</td>\n",
              "      <td>1</td>\n",
              "      <td>10000-24999</td>\n",
              "      <td>N</td>\n",
              "      <td>6692</td>\n",
              "      <td>1</td>\n",
              "    </tr>\n",
              "    <tr>\n",
              "      <th>4</th>\n",
              "      <td>10556103</td>\n",
              "      <td>GENETIC RESEARCH INSTITUTE OF THE DESERT</td>\n",
              "      <td>T3</td>\n",
              "      <td>Independent</td>\n",
              "      <td>C1000</td>\n",
              "      <td>Heathcare</td>\n",
              "      <td>Trust</td>\n",
              "      <td>1</td>\n",
              "      <td>100000-499999</td>\n",
              "      <td>N</td>\n",
              "      <td>142590</td>\n",
              "      <td>1</td>\n",
              "    </tr>\n",
              "  </tbody>\n",
              "</table>\n",
              "</div>\n",
              "      <button class=\"colab-df-convert\" onclick=\"convertToInteractive('df-1217a278-7b48-41bf-b530-36e715d8bb5e')\"\n",
              "              title=\"Convert this dataframe to an interactive table.\"\n",
              "              style=\"display:none;\">\n",
              "        \n",
              "  <svg xmlns=\"http://www.w3.org/2000/svg\" height=\"24px\"viewBox=\"0 0 24 24\"\n",
              "       width=\"24px\">\n",
              "    <path d=\"M0 0h24v24H0V0z\" fill=\"none\"/>\n",
              "    <path d=\"M18.56 5.44l.94 2.06.94-2.06 2.06-.94-2.06-.94-.94-2.06-.94 2.06-2.06.94zm-11 1L8.5 8.5l.94-2.06 2.06-.94-2.06-.94L8.5 2.5l-.94 2.06-2.06.94zm10 10l.94 2.06.94-2.06 2.06-.94-2.06-.94-.94-2.06-.94 2.06-2.06.94z\"/><path d=\"M17.41 7.96l-1.37-1.37c-.4-.4-.92-.59-1.43-.59-.52 0-1.04.2-1.43.59L10.3 9.45l-7.72 7.72c-.78.78-.78 2.05 0 2.83L4 21.41c.39.39.9.59 1.41.59.51 0 1.02-.2 1.41-.59l7.78-7.78 2.81-2.81c.8-.78.8-2.07 0-2.86zM5.41 20L4 18.59l7.72-7.72 1.47 1.35L5.41 20z\"/>\n",
              "  </svg>\n",
              "      </button>\n",
              "      \n",
              "  <style>\n",
              "    .colab-df-container {\n",
              "      display:flex;\n",
              "      flex-wrap:wrap;\n",
              "      gap: 12px;\n",
              "    }\n",
              "\n",
              "    .colab-df-convert {\n",
              "      background-color: #E8F0FE;\n",
              "      border: none;\n",
              "      border-radius: 50%;\n",
              "      cursor: pointer;\n",
              "      display: none;\n",
              "      fill: #1967D2;\n",
              "      height: 32px;\n",
              "      padding: 0 0 0 0;\n",
              "      width: 32px;\n",
              "    }\n",
              "\n",
              "    .colab-df-convert:hover {\n",
              "      background-color: #E2EBFA;\n",
              "      box-shadow: 0px 1px 2px rgba(60, 64, 67, 0.3), 0px 1px 3px 1px rgba(60, 64, 67, 0.15);\n",
              "      fill: #174EA6;\n",
              "    }\n",
              "\n",
              "    [theme=dark] .colab-df-convert {\n",
              "      background-color: #3B4455;\n",
              "      fill: #D2E3FC;\n",
              "    }\n",
              "\n",
              "    [theme=dark] .colab-df-convert:hover {\n",
              "      background-color: #434B5C;\n",
              "      box-shadow: 0px 1px 3px 1px rgba(0, 0, 0, 0.15);\n",
              "      filter: drop-shadow(0px 1px 2px rgba(0, 0, 0, 0.3));\n",
              "      fill: #FFFFFF;\n",
              "    }\n",
              "  </style>\n",
              "\n",
              "      <script>\n",
              "        const buttonEl =\n",
              "          document.querySelector('#df-1217a278-7b48-41bf-b530-36e715d8bb5e button.colab-df-convert');\n",
              "        buttonEl.style.display =\n",
              "          google.colab.kernel.accessAllowed ? 'block' : 'none';\n",
              "\n",
              "        async function convertToInteractive(key) {\n",
              "          const element = document.querySelector('#df-1217a278-7b48-41bf-b530-36e715d8bb5e');\n",
              "          const dataTable =\n",
              "            await google.colab.kernel.invokeFunction('convertToInteractive',\n",
              "                                                     [key], {});\n",
              "          if (!dataTable) return;\n",
              "\n",
              "          const docLinkHtml = 'Like what you see? Visit the ' +\n",
              "            '<a target=\"_blank\" href=https://colab.research.google.com/notebooks/data_table.ipynb>data table notebook</a>'\n",
              "            + ' to learn more about interactive tables.';\n",
              "          element.innerHTML = '';\n",
              "          dataTable['output_type'] = 'display_data';\n",
              "          await google.colab.output.renderOutput(dataTable, element);\n",
              "          const docLink = document.createElement('div');\n",
              "          docLink.innerHTML = docLinkHtml;\n",
              "          element.appendChild(docLink);\n",
              "        }\n",
              "      </script>\n",
              "    </div>\n",
              "  </div>\n",
              "  "
            ]
          },
          "metadata": {},
          "execution_count": 19
        }
      ],
      "source": [
        "# Import our dependencies\n",
        "from sklearn.model_selection import train_test_split\n",
        "from sklearn.preprocessing import StandardScaler\n",
        "import pandas as pd\n",
        "import tensorflow as tf\n",
        "\n",
        "#  Import and read the charity_data.csv.\n",
        "import pandas as pd \n",
        "application_df = pd.read_csv(\"sample_data/charity_data.csv\")\n",
        "application_df.head()"
      ]
    },
    {
      "cell_type": "markdown",
      "source": [
        "# New Section"
      ],
      "metadata": {
        "id": "9SyUhXhnoSQd"
      }
    },
    {
      "cell_type": "code",
      "execution_count": 20,
      "metadata": {
        "id": "yX-8cWelnc1j",
        "colab": {
          "base_uri": "https://localhost:8080/"
        },
        "outputId": "ce85a0f4-2b85-40e5-c2e9-0da5ee14d716"
      },
      "outputs": [
        {
          "output_type": "execute_result",
          "data": {
            "text/plain": [
              "Index(['APPLICATION_TYPE', 'AFFILIATION', 'CLASSIFICATION', 'USE_CASE',\n",
              "       'ORGANIZATION', 'STATUS', 'INCOME_AMT', 'SPECIAL_CONSIDERATIONS',\n",
              "       'ASK_AMT', 'IS_SUCCESSFUL'],\n",
              "      dtype='object')"
            ]
          },
          "metadata": {},
          "execution_count": 20
        }
      ],
      "source": [
        "# Drop the non-beneficial ID columns, 'EIN' and 'NAME'.\n",
        "application_df = application_df.drop(['EIN', 'NAME'], axis='columns')\n",
        "application_df.columns"
      ]
    },
    {
      "cell_type": "code",
      "source": [
        "application_df.shape"
      ],
      "metadata": {
        "colab": {
          "base_uri": "https://localhost:8080/"
        },
        "id": "T53-uqBwqeMI",
        "outputId": "662460ee-cdf8-432b-80f7-75c08db49863"
      },
      "execution_count": 21,
      "outputs": [
        {
          "output_type": "execute_result",
          "data": {
            "text/plain": [
              "(34299, 10)"
            ]
          },
          "metadata": {},
          "execution_count": 21
        }
      ]
    },
    {
      "cell_type": "code",
      "source": [
        "application_df.isnull().sum()"
      ],
      "metadata": {
        "colab": {
          "base_uri": "https://localhost:8080/"
        },
        "id": "_uxiwAoTqm58",
        "outputId": "94630537-4b65-453b-f516-fdf60292d9a5"
      },
      "execution_count": 22,
      "outputs": [
        {
          "output_type": "execute_result",
          "data": {
            "text/plain": [
              "APPLICATION_TYPE          0\n",
              "AFFILIATION               0\n",
              "CLASSIFICATION            0\n",
              "USE_CASE                  0\n",
              "ORGANIZATION              0\n",
              "STATUS                    0\n",
              "INCOME_AMT                0\n",
              "SPECIAL_CONSIDERATIONS    0\n",
              "ASK_AMT                   0\n",
              "IS_SUCCESSFUL             0\n",
              "dtype: int64"
            ]
          },
          "metadata": {},
          "execution_count": 22
        }
      ]
    },
    {
      "cell_type": "code",
      "execution_count": 23,
      "metadata": {
        "id": "eKHqknnBnc1j",
        "outputId": "e20bc609-b44f-44c1-c4e6-759e940e44ce",
        "colab": {
          "base_uri": "https://localhost:8080/"
        }
      },
      "outputs": [
        {
          "output_type": "stream",
          "name": "stdout",
          "text": [
            "APPLICATION_TYPE            17\n",
            "AFFILIATION                  6\n",
            "CLASSIFICATION              71\n",
            "USE_CASE                     5\n",
            "ORGANIZATION                 4\n",
            "STATUS                       2\n",
            "INCOME_AMT                   9\n",
            "SPECIAL_CONSIDERATIONS       2\n",
            "ASK_AMT                   8747\n",
            "IS_SUCCESSFUL                2\n",
            "dtype: int64\n"
          ]
        }
      ],
      "source": [
        "# Determine the number of unique values in each column.\n",
        "print(application_df.nunique())"
      ]
    },
    {
      "cell_type": "code",
      "execution_count": 24,
      "metadata": {
        "id": "qHO6vLfrnc1j",
        "outputId": "da257ea6-9ba6-4785-e8b3-0ca490819a3d",
        "colab": {
          "base_uri": "https://localhost:8080/"
        }
      },
      "outputs": [
        {
          "output_type": "execute_result",
          "data": {
            "text/plain": [
              "T3     27037\n",
              "T4      1542\n",
              "T6      1216\n",
              "T5      1173\n",
              "T19     1065\n",
              "T8       737\n",
              "T7       725\n",
              "T10      528\n",
              "T9       156\n",
              "T13       66\n",
              "T12       27\n",
              "T2        16\n",
              "T25        3\n",
              "T14        3\n",
              "T29        2\n",
              "T15        2\n",
              "T17        1\n",
              "Name: APPLICATION_TYPE, dtype: int64"
            ]
          },
          "metadata": {},
          "execution_count": 24
        }
      ],
      "source": [
        "# Look at APPLICATION_TYPE value counts for binning\n",
        "application_df['APPLICATION_TYPE'].value_counts()"
      ]
    },
    {
      "cell_type": "code",
      "execution_count": 25,
      "metadata": {
        "id": "Xbd287rPnc1k",
        "outputId": "63f901dc-c969-4c82-98d9-b9d55bac19b4",
        "colab": {
          "base_uri": "https://localhost:8080/"
        }
      },
      "outputs": [
        {
          "output_type": "execute_result",
          "data": {
            "text/plain": [
              "T3       27037\n",
              "T4        1542\n",
              "T6        1216\n",
              "T5        1173\n",
              "T19       1065\n",
              "Other      804\n",
              "T8         737\n",
              "T7         725\n",
              "Name: APPLICATION_TYPE, dtype: int64"
            ]
          },
          "metadata": {},
          "execution_count": 25
        }
      ],
      "source": [
        "# Choose a cutoff value and create a list of application types to be replaced\n",
        "# use the variable name `application_types_to_replace`\n",
        "#  YOUR CODE GOES HERE\n",
        "application_types_to_replace = ['T9', 'T13', 'T12', 'T2', 'T25', 'T14', 'T29', 'T15', 'T17', 'T10']\n",
        "# Replace in dataframe\n",
        "for app in application_types_to_replace:\n",
        "    application_df['APPLICATION_TYPE'] = application_df['APPLICATION_TYPE'].replace(app,\"Other\")\n",
        "\n",
        "# Check to make sure binning was successful\n",
        "application_df['APPLICATION_TYPE'].value_counts()"
      ]
    },
    {
      "cell_type": "code",
      "execution_count": 26,
      "metadata": {
        "id": "sBxVsH4xnc1k",
        "outputId": "a161516e-f6d1-4851-c6ef-0877eb55b662",
        "colab": {
          "base_uri": "https://localhost:8080/"
        }
      },
      "outputs": [
        {
          "output_type": "execute_result",
          "data": {
            "text/plain": [
              "C1000    17326\n",
              "C2000     6074\n",
              "C1200     4837\n",
              "C3000     1918\n",
              "C2100     1883\n",
              "         ...  \n",
              "C4120        1\n",
              "C8210        1\n",
              "C2561        1\n",
              "C4500        1\n",
              "C2150        1\n",
              "Name: CLASSIFICATION, Length: 71, dtype: int64"
            ]
          },
          "metadata": {},
          "execution_count": 26
        }
      ],
      "source": [
        "# Look at CLASSIFICATION value counts for binning\n",
        "#  YOUR CODE GOES HERE\n",
        "countsbinning = application_df['CLASSIFICATION'].value_counts()\n",
        "countsbinning"
      ]
    },
    {
      "cell_type": "code",
      "execution_count": 27,
      "metadata": {
        "id": "YXnNTERPnc1k",
        "outputId": "6db4c437-1544-4fde-8143-3d57d8a79c4f",
        "colab": {
          "base_uri": "https://localhost:8080/"
        }
      },
      "outputs": [
        {
          "output_type": "execute_result",
          "data": {
            "text/plain": [
              "C1000    17326\n",
              "C2000     6074\n",
              "C1200     4837\n",
              "C3000     1918\n",
              "C2100     1883\n",
              "C7000      777\n",
              "C1700      287\n",
              "C4000      194\n",
              "C5000      116\n",
              "C1270      114\n",
              "C2700      104\n",
              "C2800       95\n",
              "C7100       75\n",
              "C1300       58\n",
              "C1280       50\n",
              "C1230       36\n",
              "C1400       34\n",
              "C7200       32\n",
              "C2300       32\n",
              "C1240       30\n",
              "C8000       20\n",
              "C7120       18\n",
              "C1500       16\n",
              "C1800       15\n",
              "C6000       15\n",
              "C1250       14\n",
              "C8200       11\n",
              "Name: CLASSIFICATION, dtype: int64"
            ]
          },
          "metadata": {},
          "execution_count": 27
        }
      ],
      "source": [
        "# You may find it helpful to look at CLASSIFICATION value counts >1\n",
        "countsclassification = countsbinning[countsbinning>10]\n",
        "countsclassification"
      ]
    },
    {
      "cell_type": "code",
      "execution_count": 28,
      "metadata": {
        "id": "APnu9skJnc1k",
        "outputId": "ae1bd40a-47b5-443a-e6b5-8c7723422388",
        "colab": {
          "base_uri": "https://localhost:8080/"
        }
      },
      "outputs": [
        {
          "output_type": "execute_result",
          "data": {
            "text/plain": [
              "C1000    17326\n",
              "C2000     6074\n",
              "C1200     4837\n",
              "C3000     1918\n",
              "C2100     1883\n",
              "C7000      777\n",
              "Other      669\n",
              "C1700      287\n",
              "C4000      194\n",
              "C5000      116\n",
              "C1270      114\n",
              "C2700      104\n",
              "Name: CLASSIFICATION, dtype: int64"
            ]
          },
          "metadata": {},
          "execution_count": 28
        }
      ],
      "source": [
        "# Choose a cutoff value and create a list of classifications to be replaced\n",
        "# use the variable name `classifications_to_replace`\n",
        "classifications_to_replace = list (countsbinning[countsbinning<100].index)\n",
        "\n",
        "# Replace in dataframe\n",
        "for cls in classifications_to_replace:\n",
        "    application_df['CLASSIFICATION'] = application_df['CLASSIFICATION'].replace(cls,\"Other\")\n",
        "    \n",
        "# Check to make sure binning was successful\n",
        "application_df['CLASSIFICATION'].value_counts()"
      ]
    },
    {
      "cell_type": "code",
      "execution_count": 29,
      "metadata": {
        "id": "GWroC7EInc1l",
        "colab": {
          "base_uri": "https://localhost:8080/",
          "height": 314
        },
        "outputId": "3822cd55-e992-4561-b90e-0353bac05548"
      },
      "outputs": [
        {
          "output_type": "execute_result",
          "data": {
            "text/plain": [
              "   STATUS  ASK_AMT  IS_SUCCESSFUL  APPLICATION_TYPE_Other  \\\n",
              "0       1     5000              1                     1.0   \n",
              "1       1   108590              1                     0.0   \n",
              "2       1     5000              0                     0.0   \n",
              "3       1     6692              1                     0.0   \n",
              "4       1   142590              1                     0.0   \n",
              "\n",
              "   APPLICATION_TYPE_T19  APPLICATION_TYPE_T3  APPLICATION_TYPE_T4  \\\n",
              "0                   0.0                  0.0                  0.0   \n",
              "1                   0.0                  1.0                  0.0   \n",
              "2                   0.0                  0.0                  0.0   \n",
              "3                   0.0                  1.0                  0.0   \n",
              "4                   0.0                  1.0                  0.0   \n",
              "\n",
              "   APPLICATION_TYPE_T5  APPLICATION_TYPE_T6  APPLICATION_TYPE_T7  ...  \\\n",
              "0                  0.0                  0.0                  0.0  ...   \n",
              "1                  0.0                  0.0                  0.0  ...   \n",
              "2                  1.0                  0.0                  0.0  ...   \n",
              "3                  0.0                  0.0                  0.0  ...   \n",
              "4                  0.0                  0.0                  0.0  ...   \n",
              "\n",
              "   INCOME_AMT_1-9999  INCOME_AMT_10000-24999  INCOME_AMT_100000-499999  \\\n",
              "0                0.0                     0.0                       0.0   \n",
              "1                1.0                     0.0                       0.0   \n",
              "2                0.0                     0.0                       0.0   \n",
              "3                0.0                     1.0                       0.0   \n",
              "4                0.0                     0.0                       1.0   \n",
              "\n",
              "   INCOME_AMT_10M-50M  INCOME_AMT_1M-5M  INCOME_AMT_25000-99999  \\\n",
              "0                 0.0               0.0                     0.0   \n",
              "1                 0.0               0.0                     0.0   \n",
              "2                 0.0               0.0                     0.0   \n",
              "3                 0.0               0.0                     0.0   \n",
              "4                 0.0               0.0                     0.0   \n",
              "\n",
              "   INCOME_AMT_50M+  INCOME_AMT_5M-10M  SPECIAL_CONSIDERATIONS_N  \\\n",
              "0              0.0                0.0                       1.0   \n",
              "1              0.0                0.0                       1.0   \n",
              "2              0.0                0.0                       1.0   \n",
              "3              0.0                0.0                       1.0   \n",
              "4              0.0                0.0                       1.0   \n",
              "\n",
              "   SPECIAL_CONSIDERATIONS_Y  \n",
              "0                       0.0  \n",
              "1                       0.0  \n",
              "2                       0.0  \n",
              "3                       0.0  \n",
              "4                       0.0  \n",
              "\n",
              "[5 rows x 49 columns]"
            ],
            "text/html": [
              "\n",
              "  <div id=\"df-c17c2950-4a7e-4971-bc60-45cfde93cb34\">\n",
              "    <div class=\"colab-df-container\">\n",
              "      <div>\n",
              "<style scoped>\n",
              "    .dataframe tbody tr th:only-of-type {\n",
              "        vertical-align: middle;\n",
              "    }\n",
              "\n",
              "    .dataframe tbody tr th {\n",
              "        vertical-align: top;\n",
              "    }\n",
              "\n",
              "    .dataframe thead th {\n",
              "        text-align: right;\n",
              "    }\n",
              "</style>\n",
              "<table border=\"1\" class=\"dataframe\">\n",
              "  <thead>\n",
              "    <tr style=\"text-align: right;\">\n",
              "      <th></th>\n",
              "      <th>STATUS</th>\n",
              "      <th>ASK_AMT</th>\n",
              "      <th>IS_SUCCESSFUL</th>\n",
              "      <th>APPLICATION_TYPE_Other</th>\n",
              "      <th>APPLICATION_TYPE_T19</th>\n",
              "      <th>APPLICATION_TYPE_T3</th>\n",
              "      <th>APPLICATION_TYPE_T4</th>\n",
              "      <th>APPLICATION_TYPE_T5</th>\n",
              "      <th>APPLICATION_TYPE_T6</th>\n",
              "      <th>APPLICATION_TYPE_T7</th>\n",
              "      <th>...</th>\n",
              "      <th>INCOME_AMT_1-9999</th>\n",
              "      <th>INCOME_AMT_10000-24999</th>\n",
              "      <th>INCOME_AMT_100000-499999</th>\n",
              "      <th>INCOME_AMT_10M-50M</th>\n",
              "      <th>INCOME_AMT_1M-5M</th>\n",
              "      <th>INCOME_AMT_25000-99999</th>\n",
              "      <th>INCOME_AMT_50M+</th>\n",
              "      <th>INCOME_AMT_5M-10M</th>\n",
              "      <th>SPECIAL_CONSIDERATIONS_N</th>\n",
              "      <th>SPECIAL_CONSIDERATIONS_Y</th>\n",
              "    </tr>\n",
              "  </thead>\n",
              "  <tbody>\n",
              "    <tr>\n",
              "      <th>0</th>\n",
              "      <td>1</td>\n",
              "      <td>5000</td>\n",
              "      <td>1</td>\n",
              "      <td>1.0</td>\n",
              "      <td>0.0</td>\n",
              "      <td>0.0</td>\n",
              "      <td>0.0</td>\n",
              "      <td>0.0</td>\n",
              "      <td>0.0</td>\n",
              "      <td>0.0</td>\n",
              "      <td>...</td>\n",
              "      <td>0.0</td>\n",
              "      <td>0.0</td>\n",
              "      <td>0.0</td>\n",
              "      <td>0.0</td>\n",
              "      <td>0.0</td>\n",
              "      <td>0.0</td>\n",
              "      <td>0.0</td>\n",
              "      <td>0.0</td>\n",
              "      <td>1.0</td>\n",
              "      <td>0.0</td>\n",
              "    </tr>\n",
              "    <tr>\n",
              "      <th>1</th>\n",
              "      <td>1</td>\n",
              "      <td>108590</td>\n",
              "      <td>1</td>\n",
              "      <td>0.0</td>\n",
              "      <td>0.0</td>\n",
              "      <td>1.0</td>\n",
              "      <td>0.0</td>\n",
              "      <td>0.0</td>\n",
              "      <td>0.0</td>\n",
              "      <td>0.0</td>\n",
              "      <td>...</td>\n",
              "      <td>1.0</td>\n",
              "      <td>0.0</td>\n",
              "      <td>0.0</td>\n",
              "      <td>0.0</td>\n",
              "      <td>0.0</td>\n",
              "      <td>0.0</td>\n",
              "      <td>0.0</td>\n",
              "      <td>0.0</td>\n",
              "      <td>1.0</td>\n",
              "      <td>0.0</td>\n",
              "    </tr>\n",
              "    <tr>\n",
              "      <th>2</th>\n",
              "      <td>1</td>\n",
              "      <td>5000</td>\n",
              "      <td>0</td>\n",
              "      <td>0.0</td>\n",
              "      <td>0.0</td>\n",
              "      <td>0.0</td>\n",
              "      <td>0.0</td>\n",
              "      <td>1.0</td>\n",
              "      <td>0.0</td>\n",
              "      <td>0.0</td>\n",
              "      <td>...</td>\n",
              "      <td>0.0</td>\n",
              "      <td>0.0</td>\n",
              "      <td>0.0</td>\n",
              "      <td>0.0</td>\n",
              "      <td>0.0</td>\n",
              "      <td>0.0</td>\n",
              "      <td>0.0</td>\n",
              "      <td>0.0</td>\n",
              "      <td>1.0</td>\n",
              "      <td>0.0</td>\n",
              "    </tr>\n",
              "    <tr>\n",
              "      <th>3</th>\n",
              "      <td>1</td>\n",
              "      <td>6692</td>\n",
              "      <td>1</td>\n",
              "      <td>0.0</td>\n",
              "      <td>0.0</td>\n",
              "      <td>1.0</td>\n",
              "      <td>0.0</td>\n",
              "      <td>0.0</td>\n",
              "      <td>0.0</td>\n",
              "      <td>0.0</td>\n",
              "      <td>...</td>\n",
              "      <td>0.0</td>\n",
              "      <td>1.0</td>\n",
              "      <td>0.0</td>\n",
              "      <td>0.0</td>\n",
              "      <td>0.0</td>\n",
              "      <td>0.0</td>\n",
              "      <td>0.0</td>\n",
              "      <td>0.0</td>\n",
              "      <td>1.0</td>\n",
              "      <td>0.0</td>\n",
              "    </tr>\n",
              "    <tr>\n",
              "      <th>4</th>\n",
              "      <td>1</td>\n",
              "      <td>142590</td>\n",
              "      <td>1</td>\n",
              "      <td>0.0</td>\n",
              "      <td>0.0</td>\n",
              "      <td>1.0</td>\n",
              "      <td>0.0</td>\n",
              "      <td>0.0</td>\n",
              "      <td>0.0</td>\n",
              "      <td>0.0</td>\n",
              "      <td>...</td>\n",
              "      <td>0.0</td>\n",
              "      <td>0.0</td>\n",
              "      <td>1.0</td>\n",
              "      <td>0.0</td>\n",
              "      <td>0.0</td>\n",
              "      <td>0.0</td>\n",
              "      <td>0.0</td>\n",
              "      <td>0.0</td>\n",
              "      <td>1.0</td>\n",
              "      <td>0.0</td>\n",
              "    </tr>\n",
              "  </tbody>\n",
              "</table>\n",
              "<p>5 rows × 49 columns</p>\n",
              "</div>\n",
              "      <button class=\"colab-df-convert\" onclick=\"convertToInteractive('df-c17c2950-4a7e-4971-bc60-45cfde93cb34')\"\n",
              "              title=\"Convert this dataframe to an interactive table.\"\n",
              "              style=\"display:none;\">\n",
              "        \n",
              "  <svg xmlns=\"http://www.w3.org/2000/svg\" height=\"24px\"viewBox=\"0 0 24 24\"\n",
              "       width=\"24px\">\n",
              "    <path d=\"M0 0h24v24H0V0z\" fill=\"none\"/>\n",
              "    <path d=\"M18.56 5.44l.94 2.06.94-2.06 2.06-.94-2.06-.94-.94-2.06-.94 2.06-2.06.94zm-11 1L8.5 8.5l.94-2.06 2.06-.94-2.06-.94L8.5 2.5l-.94 2.06-2.06.94zm10 10l.94 2.06.94-2.06 2.06-.94-2.06-.94-.94-2.06-.94 2.06-2.06.94z\"/><path d=\"M17.41 7.96l-1.37-1.37c-.4-.4-.92-.59-1.43-.59-.52 0-1.04.2-1.43.59L10.3 9.45l-7.72 7.72c-.78.78-.78 2.05 0 2.83L4 21.41c.39.39.9.59 1.41.59.51 0 1.02-.2 1.41-.59l7.78-7.78 2.81-2.81c.8-.78.8-2.07 0-2.86zM5.41 20L4 18.59l7.72-7.72 1.47 1.35L5.41 20z\"/>\n",
              "  </svg>\n",
              "      </button>\n",
              "      \n",
              "  <style>\n",
              "    .colab-df-container {\n",
              "      display:flex;\n",
              "      flex-wrap:wrap;\n",
              "      gap: 12px;\n",
              "    }\n",
              "\n",
              "    .colab-df-convert {\n",
              "      background-color: #E8F0FE;\n",
              "      border: none;\n",
              "      border-radius: 50%;\n",
              "      cursor: pointer;\n",
              "      display: none;\n",
              "      fill: #1967D2;\n",
              "      height: 32px;\n",
              "      padding: 0 0 0 0;\n",
              "      width: 32px;\n",
              "    }\n",
              "\n",
              "    .colab-df-convert:hover {\n",
              "      background-color: #E2EBFA;\n",
              "      box-shadow: 0px 1px 2px rgba(60, 64, 67, 0.3), 0px 1px 3px 1px rgba(60, 64, 67, 0.15);\n",
              "      fill: #174EA6;\n",
              "    }\n",
              "\n",
              "    [theme=dark] .colab-df-convert {\n",
              "      background-color: #3B4455;\n",
              "      fill: #D2E3FC;\n",
              "    }\n",
              "\n",
              "    [theme=dark] .colab-df-convert:hover {\n",
              "      background-color: #434B5C;\n",
              "      box-shadow: 0px 1px 3px 1px rgba(0, 0, 0, 0.15);\n",
              "      filter: drop-shadow(0px 1px 2px rgba(0, 0, 0, 0.3));\n",
              "      fill: #FFFFFF;\n",
              "    }\n",
              "  </style>\n",
              "\n",
              "      <script>\n",
              "        const buttonEl =\n",
              "          document.querySelector('#df-c17c2950-4a7e-4971-bc60-45cfde93cb34 button.colab-df-convert');\n",
              "        buttonEl.style.display =\n",
              "          google.colab.kernel.accessAllowed ? 'block' : 'none';\n",
              "\n",
              "        async function convertToInteractive(key) {\n",
              "          const element = document.querySelector('#df-c17c2950-4a7e-4971-bc60-45cfde93cb34');\n",
              "          const dataTable =\n",
              "            await google.colab.kernel.invokeFunction('convertToInteractive',\n",
              "                                                     [key], {});\n",
              "          if (!dataTable) return;\n",
              "\n",
              "          const docLinkHtml = 'Like what you see? Visit the ' +\n",
              "            '<a target=\"_blank\" href=https://colab.research.google.com/notebooks/data_table.ipynb>data table notebook</a>'\n",
              "            + ' to learn more about interactive tables.';\n",
              "          element.innerHTML = '';\n",
              "          dataTable['output_type'] = 'display_data';\n",
              "          await google.colab.output.renderOutput(dataTable, element);\n",
              "          const docLink = document.createElement('div');\n",
              "          docLink.innerHTML = docLinkHtml;\n",
              "          element.appendChild(docLink);\n",
              "        }\n",
              "      </script>\n",
              "    </div>\n",
              "  </div>\n",
              "  "
            ]
          },
          "metadata": {},
          "execution_count": 29
        }
      ],
      "source": [
        "# Convert categorical data to numeric with `pd.get_dummies`\n",
        "application_df = pd.get_dummies(application_df,dtype=float)\n",
        "application_df.head()"
      ]
    },
    {
      "cell_type": "code",
      "execution_count": 36,
      "metadata": {
        "id": "RnQK5wpWnc1l"
      },
      "outputs": [],
      "source": [
        "# Split our preprocessed data into our features and target arrays\n",
        "y = application_df['IS_SUCCESSFUL'].values\n",
        "y\n",
        "\n",
        "# Take out IS_SUCCESSFUL\n",
        "X = application_df.drop('IS_SUCCESSFUL', axis=1).values\n",
        "X\n",
        "\n",
        "# Split the preprocessed data into a training and testing dataset\n",
        "X_train, X_test, y_train, y_test = train_test_split(X,y,random_state = 42)"
      ]
    },
    {
      "cell_type": "code",
      "execution_count": 37,
      "metadata": {
        "id": "8IHkC8cknc1l"
      },
      "outputs": [],
      "source": [
        "# Create a StandardScaler instances\n",
        "\n",
        "scaler = StandardScaler()\n",
        "\n",
        "# Fit the StandardScaler\n",
        "X_scaler = scaler.fit(X_train)\n",
        "\n",
        "# Scale the data\n",
        "X_train_scaled = X_scaler.transform(X_train)\n",
        "X_test_scaled = X_scaler.transform(X_test)"
      ]
    },
    {
      "cell_type": "markdown",
      "metadata": {
        "id": "E01UCNVJnc1l"
      },
      "source": [
        "## Compile, Train and Evaluate the Model"
      ]
    },
    {
      "cell_type": "code",
      "execution_count": 51,
      "metadata": {
        "id": "4LEs_Vlmnc1l",
        "outputId": "0a52fd38-8d7f-44b1-8ef3-34fa56ac08e0",
        "colab": {
          "base_uri": "https://localhost:8080/"
        }
      },
      "outputs": [
        {
          "output_type": "stream",
          "name": "stdout",
          "text": [
            "Model: \"sequential_8\"\n",
            "_________________________________________________________________\n",
            " Layer (type)                Output Shape              Param #   \n",
            "=================================================================\n",
            " dense_22 (Dense)            (None, 7)                 343       \n",
            "                                                                 \n",
            " dense_23 (Dense)            (None, 14)                112       \n",
            "                                                                 \n",
            " dense_24 (Dense)            (None, 1)                 15        \n",
            "                                                                 \n",
            "=================================================================\n",
            "Total params: 470\n",
            "Trainable params: 470\n",
            "Non-trainable params: 0\n",
            "_________________________________________________________________\n"
          ]
        }
      ],
      "source": [
        "# Define the model - deep neural net, i.e., the number of input features and hidden nodes for each layer.\n",
        "#  YOUR CODE GOES HERE\n",
        "number_input_features = len( X_train_scaled[0])\n",
        "hidden_nodes_layer1=7\n",
        "hidden_nodes_layer2=14\n",
        "hidden_nodes_layer3=21\n",
        "\n",
        "nn = tf.keras.models.Sequential()\n",
        "\n",
        "# First hidden layer\n",
        "#  YOUR CODE GOES HERE\n",
        "nn.add(tf.keras.layers.Dense(units=hidden_nodes_layer1, input_dim=number_input_features, activation='selu'))\n",
        "# Second hidden layer\n",
        "#  YOUR CODE GOES HERE\n",
        "nn.add(tf.keras.layers.Dense(units=hidden_nodes_layer2, activation='selu'))\n",
        "# Output layer\n",
        "#  YOUR CODE GOES HERE\n",
        "nn.add(tf.keras.layers.Dense(units=1, activation='sigmoid'))\n",
        "# Check the structure of the model\n",
        "nn.summary()"
      ]
    },
    {
      "cell_type": "code",
      "execution_count": 52,
      "metadata": {
        "id": "OunqBwqcnc1m"
      },
      "outputs": [],
      "source": [
        "# Compile the model\n",
        "#  YOUR CODE GOES HERE\n",
        "nn.compile(loss = 'binary_crossentropy', optimizer = 'adam', metrics=['accuracy'])"
      ]
    },
    {
      "cell_type": "code",
      "execution_count": 53,
      "metadata": {
        "id": "XBmkrFmJnc1m",
        "outputId": "b417103d-350d-4dc4-d543-3fba07b89bfb",
        "colab": {
          "base_uri": "https://localhost:8080/"
        }
      },
      "outputs": [
        {
          "output_type": "stream",
          "name": "stdout",
          "text": [
            "Epoch 1/75\n",
            "684/684 [==============================] - 2s 3ms/step - loss: 0.6097 - accuracy: 0.7003 - val_loss: 0.5631 - val_accuracy: 0.7383\n",
            "Epoch 2/75\n",
            "684/684 [==============================] - 2s 3ms/step - loss: 0.5752 - accuracy: 0.7201 - val_loss: 0.5590 - val_accuracy: 0.7375\n",
            "Epoch 3/75\n",
            "684/684 [==============================] - 2s 4ms/step - loss: 0.5700 - accuracy: 0.7225 - val_loss: 0.5550 - val_accuracy: 0.7385\n",
            "Epoch 4/75\n",
            "684/684 [==============================] - 2s 3ms/step - loss: 0.5662 - accuracy: 0.7227 - val_loss: 0.5520 - val_accuracy: 0.7367\n",
            "Epoch 5/75\n",
            "684/684 [==============================] - 2s 3ms/step - loss: 0.5629 - accuracy: 0.7257 - val_loss: 0.5497 - val_accuracy: 0.7401\n",
            "Epoch 6/75\n",
            "684/684 [==============================] - 2s 3ms/step - loss: 0.5606 - accuracy: 0.7255 - val_loss: 0.5463 - val_accuracy: 0.7383\n",
            "Epoch 7/75\n",
            "684/684 [==============================] - 2s 3ms/step - loss: 0.5590 - accuracy: 0.7260 - val_loss: 0.5478 - val_accuracy: 0.7372\n",
            "Epoch 8/75\n",
            "684/684 [==============================] - 2s 3ms/step - loss: 0.5575 - accuracy: 0.7268 - val_loss: 0.5471 - val_accuracy: 0.7334\n",
            "Epoch 9/75\n",
            "684/684 [==============================] - 2s 3ms/step - loss: 0.5564 - accuracy: 0.7267 - val_loss: 0.5465 - val_accuracy: 0.7352\n",
            "Epoch 10/75\n",
            "684/684 [==============================] - 2s 3ms/step - loss: 0.5555 - accuracy: 0.7265 - val_loss: 0.5444 - val_accuracy: 0.7375\n",
            "Epoch 11/75\n",
            "684/684 [==============================] - 2s 3ms/step - loss: 0.5547 - accuracy: 0.7260 - val_loss: 0.5466 - val_accuracy: 0.7378\n",
            "Epoch 12/75\n",
            "684/684 [==============================] - 2s 3ms/step - loss: 0.5542 - accuracy: 0.7264 - val_loss: 0.5456 - val_accuracy: 0.7380\n",
            "Epoch 13/75\n",
            "684/684 [==============================] - 2s 3ms/step - loss: 0.5533 - accuracy: 0.7276 - val_loss: 0.5452 - val_accuracy: 0.7354\n",
            "Epoch 14/75\n",
            "684/684 [==============================] - 2s 3ms/step - loss: 0.5534 - accuracy: 0.7268 - val_loss: 0.5441 - val_accuracy: 0.7370\n",
            "Epoch 15/75\n",
            "684/684 [==============================] - 2s 3ms/step - loss: 0.5531 - accuracy: 0.7258 - val_loss: 0.5434 - val_accuracy: 0.7378\n",
            "Epoch 16/75\n",
            "684/684 [==============================] - 2s 3ms/step - loss: 0.5522 - accuracy: 0.7266 - val_loss: 0.5486 - val_accuracy: 0.7365\n",
            "Epoch 17/75\n",
            "684/684 [==============================] - 2s 3ms/step - loss: 0.5521 - accuracy: 0.7260 - val_loss: 0.5456 - val_accuracy: 0.7378\n",
            "Epoch 18/75\n",
            "684/684 [==============================] - 2s 3ms/step - loss: 0.5518 - accuracy: 0.7250 - val_loss: 0.5437 - val_accuracy: 0.7326\n",
            "Epoch 19/75\n",
            "684/684 [==============================] - 2s 3ms/step - loss: 0.5517 - accuracy: 0.7256 - val_loss: 0.5456 - val_accuracy: 0.7308\n",
            "Epoch 20/75\n",
            "684/684 [==============================] - 2s 3ms/step - loss: 0.5512 - accuracy: 0.7277 - val_loss: 0.5452 - val_accuracy: 0.7365\n",
            "Epoch 21/75\n",
            "684/684 [==============================] - 2s 3ms/step - loss: 0.5511 - accuracy: 0.7257 - val_loss: 0.5447 - val_accuracy: 0.7352\n",
            "Epoch 22/75\n",
            "684/684 [==============================] - 2s 3ms/step - loss: 0.5505 - accuracy: 0.7271 - val_loss: 0.5440 - val_accuracy: 0.7372\n",
            "Epoch 23/75\n",
            "684/684 [==============================] - 2s 3ms/step - loss: 0.5503 - accuracy: 0.7280 - val_loss: 0.5456 - val_accuracy: 0.7383\n",
            "Epoch 24/75\n",
            "684/684 [==============================] - 2s 3ms/step - loss: 0.5500 - accuracy: 0.7259 - val_loss: 0.5451 - val_accuracy: 0.7344\n",
            "Epoch 25/75\n",
            "684/684 [==============================] - 2s 3ms/step - loss: 0.5499 - accuracy: 0.7268 - val_loss: 0.5458 - val_accuracy: 0.7354\n",
            "Epoch 26/75\n",
            "684/684 [==============================] - 2s 3ms/step - loss: 0.5499 - accuracy: 0.7265 - val_loss: 0.5445 - val_accuracy: 0.7331\n",
            "Epoch 27/75\n",
            "684/684 [==============================] - 2s 3ms/step - loss: 0.5497 - accuracy: 0.7265 - val_loss: 0.5459 - val_accuracy: 0.7341\n",
            "Epoch 28/75\n",
            "684/684 [==============================] - 2s 3ms/step - loss: 0.5495 - accuracy: 0.7265 - val_loss: 0.5450 - val_accuracy: 0.7326\n",
            "Epoch 29/75\n",
            "684/684 [==============================] - 2s 3ms/step - loss: 0.5496 - accuracy: 0.7277 - val_loss: 0.5440 - val_accuracy: 0.7344\n",
            "Epoch 30/75\n",
            "684/684 [==============================] - 2s 3ms/step - loss: 0.5492 - accuracy: 0.7273 - val_loss: 0.5427 - val_accuracy: 0.7321\n",
            "Epoch 31/75\n",
            "684/684 [==============================] - 2s 3ms/step - loss: 0.5489 - accuracy: 0.7275 - val_loss: 0.5445 - val_accuracy: 0.7336\n",
            "Epoch 32/75\n",
            "684/684 [==============================] - 2s 3ms/step - loss: 0.5488 - accuracy: 0.7295 - val_loss: 0.5438 - val_accuracy: 0.7339\n",
            "Epoch 33/75\n",
            "684/684 [==============================] - 2s 3ms/step - loss: 0.5485 - accuracy: 0.7289 - val_loss: 0.5441 - val_accuracy: 0.7352\n",
            "Epoch 34/75\n",
            "684/684 [==============================] - 2s 3ms/step - loss: 0.5488 - accuracy: 0.7308 - val_loss: 0.5439 - val_accuracy: 0.7341\n",
            "Epoch 35/75\n",
            "684/684 [==============================] - 2s 3ms/step - loss: 0.5489 - accuracy: 0.7268 - val_loss: 0.5451 - val_accuracy: 0.7372\n",
            "Epoch 36/75\n",
            "684/684 [==============================] - 2s 3ms/step - loss: 0.5486 - accuracy: 0.7275 - val_loss: 0.5435 - val_accuracy: 0.7370\n",
            "Epoch 37/75\n",
            "684/684 [==============================] - 2s 3ms/step - loss: 0.5484 - accuracy: 0.7294 - val_loss: 0.5432 - val_accuracy: 0.7339\n",
            "Epoch 38/75\n",
            "684/684 [==============================] - 2s 3ms/step - loss: 0.5481 - accuracy: 0.7286 - val_loss: 0.5428 - val_accuracy: 0.7367\n",
            "Epoch 39/75\n",
            "684/684 [==============================] - 2s 3ms/step - loss: 0.5479 - accuracy: 0.7293 - val_loss: 0.5430 - val_accuracy: 0.7315\n",
            "Epoch 40/75\n",
            "684/684 [==============================] - 2s 3ms/step - loss: 0.5477 - accuracy: 0.7292 - val_loss: 0.5453 - val_accuracy: 0.7318\n",
            "Epoch 41/75\n",
            "684/684 [==============================] - 2s 3ms/step - loss: 0.5483 - accuracy: 0.7296 - val_loss: 0.5433 - val_accuracy: 0.7321\n",
            "Epoch 42/75\n",
            "684/684 [==============================] - 2s 3ms/step - loss: 0.5478 - accuracy: 0.7284 - val_loss: 0.5444 - val_accuracy: 0.7375\n",
            "Epoch 43/75\n",
            "684/684 [==============================] - 2s 3ms/step - loss: 0.5478 - accuracy: 0.7292 - val_loss: 0.5447 - val_accuracy: 0.7352\n",
            "Epoch 44/75\n",
            "684/684 [==============================] - 2s 3ms/step - loss: 0.5479 - accuracy: 0.7293 - val_loss: 0.5441 - val_accuracy: 0.7372\n",
            "Epoch 45/75\n",
            "684/684 [==============================] - 2s 3ms/step - loss: 0.5475 - accuracy: 0.7294 - val_loss: 0.5489 - val_accuracy: 0.7331\n",
            "Epoch 46/75\n",
            "684/684 [==============================] - 2s 3ms/step - loss: 0.5475 - accuracy: 0.7299 - val_loss: 0.5455 - val_accuracy: 0.7326\n",
            "Epoch 47/75\n",
            "684/684 [==============================] - 2s 3ms/step - loss: 0.5477 - accuracy: 0.7280 - val_loss: 0.5460 - val_accuracy: 0.7339\n",
            "Epoch 48/75\n",
            "684/684 [==============================] - 2s 3ms/step - loss: 0.5475 - accuracy: 0.7288 - val_loss: 0.5425 - val_accuracy: 0.7359\n",
            "Epoch 49/75\n",
            "684/684 [==============================] - 2s 3ms/step - loss: 0.5468 - accuracy: 0.7301 - val_loss: 0.5449 - val_accuracy: 0.7359\n",
            "Epoch 50/75\n",
            "684/684 [==============================] - 2s 3ms/step - loss: 0.5472 - accuracy: 0.7299 - val_loss: 0.5442 - val_accuracy: 0.7339\n",
            "Epoch 51/75\n",
            "684/684 [==============================] - 2s 3ms/step - loss: 0.5473 - accuracy: 0.7290 - val_loss: 0.5438 - val_accuracy: 0.7346\n",
            "Epoch 52/75\n",
            "684/684 [==============================] - 2s 3ms/step - loss: 0.5470 - accuracy: 0.7306 - val_loss: 0.5436 - val_accuracy: 0.7346\n",
            "Epoch 53/75\n",
            "684/684 [==============================] - 2s 3ms/step - loss: 0.5470 - accuracy: 0.7293 - val_loss: 0.5434 - val_accuracy: 0.7385\n",
            "Epoch 54/75\n",
            "684/684 [==============================] - 2s 3ms/step - loss: 0.5469 - accuracy: 0.7313 - val_loss: 0.5448 - val_accuracy: 0.7313\n",
            "Epoch 55/75\n",
            "684/684 [==============================] - 2s 3ms/step - loss: 0.5466 - accuracy: 0.7298 - val_loss: 0.5446 - val_accuracy: 0.7367\n",
            "Epoch 56/75\n",
            "684/684 [==============================] - 2s 3ms/step - loss: 0.5468 - accuracy: 0.7298 - val_loss: 0.5446 - val_accuracy: 0.7385\n",
            "Epoch 57/75\n",
            "684/684 [==============================] - 2s 3ms/step - loss: 0.5469 - accuracy: 0.7305 - val_loss: 0.5429 - val_accuracy: 0.7370\n",
            "Epoch 58/75\n",
            "684/684 [==============================] - 2s 3ms/step - loss: 0.5468 - accuracy: 0.7299 - val_loss: 0.5435 - val_accuracy: 0.7388\n",
            "Epoch 59/75\n",
            "684/684 [==============================] - 2s 3ms/step - loss: 0.5464 - accuracy: 0.7306 - val_loss: 0.5434 - val_accuracy: 0.7365\n",
            "Epoch 60/75\n",
            "684/684 [==============================] - 2s 3ms/step - loss: 0.5463 - accuracy: 0.7295 - val_loss: 0.5460 - val_accuracy: 0.7362\n",
            "Epoch 61/75\n",
            "684/684 [==============================] - 2s 3ms/step - loss: 0.5463 - accuracy: 0.7294 - val_loss: 0.5431 - val_accuracy: 0.7362\n",
            "Epoch 62/75\n",
            "684/684 [==============================] - 2s 3ms/step - loss: 0.5462 - accuracy: 0.7304 - val_loss: 0.5435 - val_accuracy: 0.7367\n",
            "Epoch 63/75\n",
            "684/684 [==============================] - 2s 3ms/step - loss: 0.5464 - accuracy: 0.7304 - val_loss: 0.5456 - val_accuracy: 0.7362\n",
            "Epoch 64/75\n",
            "684/684 [==============================] - 2s 3ms/step - loss: 0.5461 - accuracy: 0.7310 - val_loss: 0.5453 - val_accuracy: 0.7349\n",
            "Epoch 65/75\n",
            "684/684 [==============================] - 2s 3ms/step - loss: 0.5460 - accuracy: 0.7314 - val_loss: 0.5444 - val_accuracy: 0.7370\n",
            "Epoch 66/75\n",
            "684/684 [==============================] - 2s 3ms/step - loss: 0.5458 - accuracy: 0.7305 - val_loss: 0.5456 - val_accuracy: 0.7326\n",
            "Epoch 67/75\n",
            "684/684 [==============================] - 2s 3ms/step - loss: 0.5461 - accuracy: 0.7301 - val_loss: 0.5434 - val_accuracy: 0.7367\n",
            "Epoch 68/75\n",
            "684/684 [==============================] - 2s 3ms/step - loss: 0.5458 - accuracy: 0.7299 - val_loss: 0.5436 - val_accuracy: 0.7354\n",
            "Epoch 69/75\n",
            "684/684 [==============================] - 2s 3ms/step - loss: 0.5459 - accuracy: 0.7300 - val_loss: 0.5453 - val_accuracy: 0.7344\n",
            "Epoch 70/75\n",
            "684/684 [==============================] - 2s 3ms/step - loss: 0.5459 - accuracy: 0.7308 - val_loss: 0.5437 - val_accuracy: 0.7365\n",
            "Epoch 71/75\n",
            "684/684 [==============================] - 2s 3ms/step - loss: 0.5455 - accuracy: 0.7302 - val_loss: 0.5423 - val_accuracy: 0.7375\n",
            "Epoch 72/75\n",
            "684/684 [==============================] - 2s 3ms/step - loss: 0.5460 - accuracy: 0.7318 - val_loss: 0.5438 - val_accuracy: 0.7334\n",
            "Epoch 73/75\n",
            "684/684 [==============================] - 2s 3ms/step - loss: 0.5458 - accuracy: 0.7318 - val_loss: 0.5425 - val_accuracy: 0.7367\n",
            "Epoch 74/75\n",
            "684/684 [==============================] - 2s 3ms/step - loss: 0.5456 - accuracy: 0.7315 - val_loss: 0.5452 - val_accuracy: 0.7341\n",
            "Epoch 75/75\n",
            "684/684 [==============================] - 2s 3ms/step - loss: 0.5453 - accuracy: 0.7314 - val_loss: 0.5451 - val_accuracy: 0.7346\n"
          ]
        }
      ],
      "source": [
        "# Train the model\n",
        "#  YOUR CODE GOES HERE\n",
        "fit_model = nn.fit(X_train_scaled,y_train,validation_split=0.15, epochs=75)"
      ]
    },
    {
      "cell_type": "code",
      "execution_count": 54,
      "metadata": {
        "id": "vhlueNdSnc1m",
        "outputId": "b9612982-fc9c-4708-aebc-ad95be9c6e1a",
        "colab": {
          "base_uri": "https://localhost:8080/"
        }
      },
      "outputs": [
        {
          "output_type": "stream",
          "name": "stdout",
          "text": [
            "268/268 - 0s - loss: 0.5517 - accuracy: 0.7305 - 457ms/epoch - 2ms/step\n",
            "Loss: 0.5516508221626282, Accuracy: 0.7304956316947937\n"
          ]
        }
      ],
      "source": [
        "# Evaluate the model using the test data\n",
        "model_loss, model_accuracy = nn.evaluate(X_test_scaled,y_test,verbose=2)\n",
        "print(f\"Loss: {model_loss}, Accuracy: {model_accuracy}\")"
      ]
    },
    {
      "cell_type": "code",
      "execution_count": 56,
      "metadata": {
        "id": "_Wn4Zd7Anc1m",
        "colab": {
          "base_uri": "https://localhost:8080/",
          "height": 17
        },
        "outputId": "aa8043a0-f294-474a-8121-e239ae05b02a"
      },
      "outputs": [
        {
          "output_type": "display_data",
          "data": {
            "text/plain": [
              "<IPython.core.display.Javascript object>"
            ],
            "application/javascript": [
              "\n",
              "    async function download(id, filename, size) {\n",
              "      if (!google.colab.kernel.accessAllowed) {\n",
              "        return;\n",
              "      }\n",
              "      const div = document.createElement('div');\n",
              "      const label = document.createElement('label');\n",
              "      label.textContent = `Downloading \"${filename}\": `;\n",
              "      div.appendChild(label);\n",
              "      const progress = document.createElement('progress');\n",
              "      progress.max = size;\n",
              "      div.appendChild(progress);\n",
              "      document.body.appendChild(div);\n",
              "\n",
              "      const buffers = [];\n",
              "      let downloaded = 0;\n",
              "\n",
              "      const channel = await google.colab.kernel.comms.open(id);\n",
              "      // Send a message to notify the kernel that we're ready.\n",
              "      channel.send({})\n",
              "\n",
              "      for await (const message of channel.messages) {\n",
              "        // Send a message to notify the kernel that we're ready.\n",
              "        channel.send({})\n",
              "        if (message.buffers) {\n",
              "          for (const buffer of message.buffers) {\n",
              "            buffers.push(buffer);\n",
              "            downloaded += buffer.byteLength;\n",
              "            progress.value = downloaded;\n",
              "          }\n",
              "        }\n",
              "      }\n",
              "      const blob = new Blob(buffers, {type: 'application/binary'});\n",
              "      const a = document.createElement('a');\n",
              "      a.href = window.URL.createObjectURL(blob);\n",
              "      a.download = filename;\n",
              "      div.appendChild(a);\n",
              "      a.click();\n",
              "      div.remove();\n",
              "    }\n",
              "  "
            ]
          },
          "metadata": {}
        },
        {
          "output_type": "display_data",
          "data": {
            "text/plain": [
              "<IPython.core.display.Javascript object>"
            ],
            "application/javascript": [
              "download(\"download_ef763fba-ff5e-4040-b6e7-432550a994ff\", \"AlphabetSoupCharity_Optimization.h5\", 37576)"
            ]
          },
          "metadata": {}
        }
      ],
      "source": [
        "# Export our model to HDF5 file\n",
        "#  YOUR CODE GOES HERE\n",
        "from google.colab import files\n",
        "\n",
        "nn.save('/content/AlphabetSoupCharity_Optimization.h5')\n",
        "files.download('/content/AlphabetSoupCharity_Optimization.h5')"
      ]
    }
  ],
  "metadata": {
    "kernelspec": {
      "display_name": "Python 3",
      "language": "python",
      "name": "python3"
    },
    "language_info": {
      "codemirror_mode": {
        "name": "ipython",
        "version": 3
      },
      "file_extension": ".py",
      "mimetype": "text/x-python",
      "name": "python",
      "nbconvert_exporter": "python",
      "pygments_lexer": "ipython3",
      "version": "3.7.6"
    },
    "colab": {
      "provenance": [],
      "machine_shape": "hm",
      "include_colab_link": true
    },
    "gpuClass": "standard",
    "accelerator": "GPU"
  },
  "nbformat": 4,
  "nbformat_minor": 0
}